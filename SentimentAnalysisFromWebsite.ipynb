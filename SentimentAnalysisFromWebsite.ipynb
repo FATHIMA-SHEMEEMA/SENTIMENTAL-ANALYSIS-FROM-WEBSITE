{
 "cells": [
  {
   "cell_type": "markdown",
   "metadata": {},
   "source": [
    "# SENTIMENTAL ANALYSIS\n",
    "\n",
    "\n"
   ]
  },
  {
   "cell_type": "markdown",
   "metadata": {},
   "source": [
    "# GET THE SENTIMENT OF TEXT FROM A WEBSITE\n",
    "\n"
   ]
  },
  {
   "cell_type": "code",
   "execution_count": 13,
   "metadata": {},
   "outputs": [],
   "source": [
    "# IMPORT THE LIBRARIES\n",
    "\n",
    "from textblob import TextBlob\n",
    "import nltk\n",
    "from newspaper import Article"
   ]
  },
  {
   "cell_type": "code",
   "execution_count": 14,
   "metadata": {},
   "outputs": [],
   "source": [
    "# GET THE ARTICLE\n",
    "\n",
    "url=\"https://en.wikipedia.org/wiki/Python_(programming_language)\"\n",
    "article=Article(url)"
   ]
  },
  {
   "cell_type": "code",
   "execution_count": 15,
   "metadata": {},
   "outputs": [
    {
     "name": "stderr",
     "output_type": "stream",
     "text": [
      "[nltk_data] Downloading package punkt to C:\\Users\\FATHIMA\n",
      "[nltk_data]     SHEMEEMA\\AppData\\Roaming\\nltk_data...\n",
      "[nltk_data]   Package punkt is already up-to-date!\n"
     ]
    }
   ],
   "source": [
    "# DO SOME NLP\n",
    "\n",
    "article.download()\n",
    "article.parse()\n",
    "nltk.download('punkt')\n",
    "article.nlp()"
   ]
  },
  {
   "cell_type": "code",
   "execution_count": 16,
   "metadata": {},
   "outputs": [
    {
     "name": "stdout",
     "output_type": "stream",
     "text": [
      "General-purpose, high-level programming languagePython is an interpreted high-level general-purpose programming language.\n",
      "[31]Guido van Rossum began working on Python in the late 1980s, as a successor to the ABC programming language, and first released it in 1991 as Python 0.9.0.\n",
      "Releases of Python 3 include the 2to3 utility, which automates (at least partially) the translation of Python 2 code to Python 3.\n",
      "[56]Design philosophy and features [ edit ]Python is a multi-paradigm programming language.\n",
      "Object-oriented programming and structured programming are fully supported, and many of its features support functional programming and aspect-oriented programming (including by metaprogramming[57] and metaobjects (magic methods)).\n"
     ]
    }
   ],
   "source": [
    "# GET THE SUMMARY OF THE ARTICLE\n",
    "\n",
    "text=article.summary\n",
    "print(text)"
   ]
  },
  {
   "cell_type": "code",
   "execution_count": 17,
   "metadata": {},
   "outputs": [
    {
     "name": "stdout",
     "output_type": "stream",
     "text": [
      "0.09166666666666667\n"
     ]
    }
   ],
   "source": [
    "# CREATE A TEXTBLOB OBJECT\n",
    "\n",
    "obj=TextBlob(text)\n",
    "\n",
    "# THIS RETURN A VALUE BETWEEN -1 AND 1\n",
    "\n",
    "sentiment=obj.sentiment.polarity\n",
    "print(sentiment)"
   ]
  },
  {
   "cell_type": "code",
   "execution_count": 18,
   "metadata": {},
   "outputs": [
    {
     "name": "stdout",
     "output_type": "stream",
     "text": [
      "The Text Is Positive\n"
     ]
    }
   ],
   "source": [
    "if sentiment==0:\n",
    "    print(\"The Text Is Neural\")\n",
    "elif sentiment>0:\n",
    "    print(\"The Text Is Positive\")\n",
    "else:\n",
    "    print(\"The Text Is Negative\")"
   ]
  },
  {
   "cell_type": "code",
   "execution_count": null,
   "metadata": {},
   "outputs": [],
   "source": []
  },
  {
   "cell_type": "code",
   "execution_count": null,
   "metadata": {},
   "outputs": [],
   "source": []
  }
 ],
 "metadata": {
  "kernelspec": {
   "display_name": "Python 3",
   "language": "python",
   "name": "python3"
  },
  "language_info": {
   "codemirror_mode": {
    "name": "ipython",
    "version": 3
   },
   "file_extension": ".py",
   "mimetype": "text/x-python",
   "name": "python",
   "nbconvert_exporter": "python",
   "pygments_lexer": "ipython3",
   "version": "3.8.5"
  }
 },
 "nbformat": 4,
 "nbformat_minor": 4
}
